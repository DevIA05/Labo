{
 "cells": [
  {
   "cell_type": "code",
   "execution_count": 3,
   "id": "ea7d2fcc-2f3c-48e8-ad72-a64b06536845",
   "metadata": {},
   "outputs": [
    {
     "name": "stdout",
     "output_type": "stream",
     "text": [
      "Répertoire de travail actuel : C:\\Users\\IKmai\\Documents\\Workspace\\afpar-simplon\\Labo\\Jupyter\n"
     ]
    }
   ],
   "source": [
    "import os\n",
    "repertoire_de_travail = os.getcwd()\n",
    "print(\"Répertoire de travail actuel :\", repertoire_de_travail)"
   ]
  },
  {
   "cell_type": "markdown",
   "id": "66718599-8f8e-4056-a969-0b335d04fd95",
   "metadata": {},
   "source": [
    "# Méthodes d'ensemble"
   ]
  },
  {
   "cell_type": "markdown",
   "id": "458b4060-eb71-4ec0-b43e-14441a751c58",
   "metadata": {},
   "source": [
    "## Définitions"
   ]
  },
  {
   "cell_type": "markdown",
   "id": "7792fea2-7088-4cc5-b74d-06f2655beb81",
   "metadata": {},
   "source": [
    "Rassembler les prédictions de plusieurs Algorithmes de Machine Learning pour obtenir un résultat optimal."
   ]
  },
  {
   "cell_type": "markdown",
   "id": "bcabf6c0-355f-496d-b4ba-6fbc8b55f366",
   "metadata": {},
   "source": [
    "<img src=\"ressource\\images\\méthodes_ensemble.png\" width=\"200\" height=\"100\">"
   ]
  },
  {
   "cell_type": "markdown",
   "id": "3249d636-fa47-4995-9d61-58c541532502",
   "metadata": {},
   "source": [
    "Phénomène: Sagesse des foules (wisdom of the crowd)"
   ]
  },
  {
   "cell_type": "markdown",
   "id": "a267e1e0-6eb2-48e2-91af-43ed2f6ad918",
   "metadata": {},
   "source": [
    "## Loi des grands nombres"
   ]
  },
  {
   "cell_type": "markdown",
   "id": "8456e4fc-ff3a-42d5-add1-5e068f1f35be",
   "metadata": {},
   "source": [
    "Plus le nombre d'individus augmente, plus la performance tend vers 100%"
   ]
  },
  {
   "cell_type": "markdown",
   "id": "8f546ba7-9c18-433f-92d1-1f0c7c92cc85",
   "metadata": {},
   "source": [
    "<img src=\"ressource\\images\\performance.png\" width=\"700\" height=\"600\">"
   ]
  },
  {
   "cell_type": "markdown",
   "id": "c1523c4a-e8f0-4f34-8be4-8ee50b342598",
   "metadata": {},
   "source": [
    "**Critères**  \n",
    "- Les individus composant la foule doivent avoir au moins 50% de performance\n",
    "<img src=\"ressource\\images\\critère_perf.png\" width=\"500\" height=\"400\">\n",
    "- Les individus doivent être diversifié  <br/>\n",
    "<img src=\"ressource\\images\\foule.png\" width=\"200\" height=\"100\">\n",
    "- La taille de la foule"
   ]
  },
  {
   "cell_type": "markdown",
   "id": "015705b2-efea-4d35-8274-6bcaba69d86b",
   "metadata": {},
   "source": [
    "# Source"
   ]
  },
  {
   "cell_type": "markdown",
   "id": "dc04833b-444f-4166-8397-2ad891a16ced",
   "metadata": {},
   "source": [
    "- Machine Learnia *ENSEMBLE LEARNING : BAGGING, BOOSTING et STACKING*: https://www.youtube.com/watch?v=7C_YpudYtw8&t=601s\n",
    "- Tom Keldenich *Méthodes d’Ensemble – Tout ce que tu dois savoir maintenant* https://inside-machinelearning.com/methodes-ensemble/"
   ]
  },
  {
   "cell_type": "code",
   "execution_count": null,
   "id": "c60a01cb-102b-4acd-bd1e-9d7d4a0412e6",
   "metadata": {},
   "outputs": [],
   "source": []
  }
 ],
 "metadata": {
  "kernelspec": {
   "display_name": "Python 3 (ipykernel)",
   "language": "python",
   "name": "python3"
  },
  "language_info": {
   "codemirror_mode": {
    "name": "ipython",
    "version": 3
   },
   "file_extension": ".py",
   "mimetype": "text/x-python",
   "name": "python",
   "nbconvert_exporter": "python",
   "pygments_lexer": "ipython3",
   "version": "3.10.5"
  }
 },
 "nbformat": 4,
 "nbformat_minor": 5
}
