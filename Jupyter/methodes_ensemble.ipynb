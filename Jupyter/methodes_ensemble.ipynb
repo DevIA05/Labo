{
 "cells": [
  {
   "cell_type": "code",
   "execution_count": 3,
   "id": "ea7d2fcc-2f3c-48e8-ad72-a64b06536845",
   "metadata": {},
   "outputs": [
    {
     "name": "stdout",
     "output_type": "stream",
     "text": [
      "Répertoire de travail actuel : C:\\Users\\IKmai\\Documents\\Workspace\\afpar-simplon\\Labo\\Jupyter\n"
     ]
    }
   ],
   "source": [
    "import os\n",
    "repertoire_de_travail = os.getcwd()\n",
    "print(\"Répertoire de travail actuel :\", repertoire_de_travail)"
   ]
  },
  {
   "cell_type": "markdown",
   "id": "66718599-8f8e-4056-a969-0b335d04fd95",
   "metadata": {},
   "source": [
    "# Méthodes d'ensemble"
   ]
  },
  {
   "cell_type": "markdown",
   "id": "458b4060-eb71-4ec0-b43e-14441a751c58",
   "metadata": {},
   "source": [
    "## Définitions"
   ]
  },
  {
   "cell_type": "markdown",
   "id": "bcabf6c0-355f-496d-b4ba-6fbc8b55f366",
   "metadata": {},
   "source": [
    "<img src=\"ressource\\images\\méthodes_ensemble.png\" width=\"200\" height=\"100\">"
   ]
  },
  {
   "cell_type": "markdown",
   "id": "a267e1e0-6eb2-48e2-91af-43ed2f6ad918",
   "metadata": {},
   "source": [
    "## Loi des grands nombres"
   ]
  },
  {
   "cell_type": "markdown",
   "id": "8f546ba7-9c18-433f-92d1-1f0c7c92cc85",
   "metadata": {},
   "source": [
    "<img src=\"ressource\\images\\performance.png\" width=\"700\" height=\"600\">"
   ]
  },
  {
   "cell_type": "markdown",
   "id": "c1523c4a-e8f0-4f34-8be4-8ee50b342598",
   "metadata": {},
   "source": [
    "**Critères**  \n",
    "- Les individus composant la foule doivent avoir au moins 50% de performance\n",
    "<img src=\"ressource\\images\\critère_perf.png\" width=\"500\" height=\"400\">\n",
    "- Les individus doivent être diversifié  <br/>\n",
    "<img src=\"ressource\\images\\foule.png\" width=\"200\" height=\"100\">\n",
    "- La taille de la foule"
   ]
  },
  {
   "cell_type": "markdown",
   "id": "b47d7e47-5274-4a86-b9e3-13f417c5edd6",
   "metadata": {},
   "source": [
    "# Techniques"
   ]
  },
  {
   "cell_type": "markdown",
   "id": "5ffe9857-cd47-42b9-b104-34613222be16",
   "metadata": {},
   "source": [
    "## Bagging"
   ]
  },
  {
   "cell_type": "markdown",
   "id": "97df9d33-e98e-4269-babe-67e0992fa91f",
   "metadata": {},
   "source": [
    "<img src=\"ressource\\images\\bagging.png\" width=\"700\" height=\"600\">"
   ]
  },
  {
   "cell_type": "markdown",
   "id": "e7f2c95b-6473-4074-8cf8-239efafb86a7",
   "metadata": {
    "jp-MarkdownHeadingCollapsed": true,
    "tags": []
   },
   "source": [
    "## Boosting"
   ]
  },
  {
   "cell_type": "markdown",
   "id": "dc26c21f-7fba-4084-aff1-65b199a959a6",
   "metadata": {},
   "source": [
    "<img src=\"ressource\\images\\boosting.png\" width=\"700\" height=\"600\">"
   ]
  },
  {
   "cell_type": "markdown",
   "id": "ffffd584-7e9e-4faa-86ff-19052abb8209",
   "metadata": {},
   "source": [
    "## Stacking"
   ]
  },
  {
   "cell_type": "markdown",
   "id": "25abd9dc-3fe4-47b7-8d05-803ad652a03c",
   "metadata": {},
   "source": [
    "<img src=\"ressource\\images\\stacking.png\" width=\"700\" height=\"600\">"
   ]
  },
  {
   "cell_type": "markdown",
   "id": "015705b2-efea-4d35-8274-6bcaba69d86b",
   "metadata": {},
   "source": [
    "# Source"
   ]
  },
  {
   "cell_type": "markdown",
   "id": "dc04833b-444f-4166-8397-2ad891a16ced",
   "metadata": {},
   "source": [
    "- Machine Learnia *ENSEMBLE LEARNING : BAGGING, BOOSTING et STACKING*: https://www.youtube.com/watch?v=7C_YpudYtw8&t=601s\n",
    "- Tom Keldenich *Méthodes d’Ensemble – Tout ce que tu dois savoir maintenant* https://inside-machinelearning.com/methodes-ensemble/"
   ]
  }
 ],
 "metadata": {
  "kernelspec": {
   "display_name": "Python 3 (ipykernel)",
   "language": "python",
   "name": "python3"
  },
  "language_info": {
   "codemirror_mode": {
    "name": "ipython",
    "version": 3
   },
   "file_extension": ".py",
   "mimetype": "text/x-python",
   "name": "python",
   "nbconvert_exporter": "python",
   "pygments_lexer": "ipython3",
   "version": "3.10.5"
  }
 },
 "nbformat": 4,
 "nbformat_minor": 5
}
